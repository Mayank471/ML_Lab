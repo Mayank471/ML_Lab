{
 "cells": [
  {
   "cell_type": "markdown",
   "metadata": {},
   "source": [
    "Before you turn this problem in, make sure everything runs as expected. First, **restart the kernel** (in the menubar, select Kernel $\\rightarrow$ Restart) and then **run all cells** (in the menubar, select Cell $\\rightarrow$ Run All).\n",
    "\n",
    "Make sure you fill in any place that says `YOUR CODE HERE` or \"YOUR ANSWER HERE\", as well as your name and collaborators below:"
   ]
  },
  {
   "cell_type": "code",
   "execution_count": null,
   "metadata": {},
   "outputs": [],
   "source": [
    "NAME = \"\"\n",
    "COLLABORATORS = \"\""
   ]
  },
  {
   "cell_type": "markdown",
   "metadata": {},
   "source": [
    "---"
   ]
  },
  {
   "cell_type": "markdown",
   "metadata": {},
   "source": [
    "## CSL2050: Pattern Recognition and Machine Learning<br>\n",
    "Programming Assignment-2<br>\n",
    "Spring 2025<br>"
   ]
  },
  {
   "cell_type": "markdown",
   "metadata": {},
   "source": [
    "---\n",
    "## KNN Classification\n",
    "In this assignment, we will implement K-nearest neighbour for Handwritten Digit Classification problem. For handwritten digit classification problem, we shall use a small subset of MNIST Dataset. \n",
    "\n",
    "KNN algorithm has three important modules: (i) Distance Computation and (ii) Finding K nearest neigbour to a point, (iii) Predicting the label for a test point. Let us first implement them. "
   ]
  },
  {
   "cell_type": "markdown",
   "metadata": {
    "deletable": false,
    "editable": false,
    "nbgrader": {
     "cell_type": "markdown",
     "checksum": "d5269395b8c88199e1b5b826a84c31c7",
     "grade": false,
     "grade_id": "Q1",
     "locked": true,
     "schema_version": 3,
     "solution": false,
     "task": false
    }
   },
   "source": [
    "**Problem 1.01:** Write a function to compute distance between two points. The function should compute either Eucleadean or Manhattan distance based on the argument passed in the function. (2 points) "
   ]
  },
  {
   "cell_type": "code",
   "execution_count": null,
   "metadata": {
    "deletable": false,
    "nbgrader": {
     "cell_type": "code",
     "checksum": "4fcccf28696ae1676dbb7a55daa96c00",
     "grade": false,
     "grade_id": "calDist",
     "locked": false,
     "schema_version": 3,
     "solution": true,
     "task": false
    }
   },
   "outputs": [],
   "source": [
    "import math\n",
    "def calDist(x,y,metric):\n",
    "    \"\"\"Compute the distance (either euclidean or manhattan)\n",
    "    \n",
    "    \"\"\"\n",
    "    # YOUR CODE HERE\n",
    "    raise NotImplementedError()"
   ]
  },
  {
   "cell_type": "markdown",
   "metadata": {
    "deletable": false,
    "editable": false,
    "nbgrader": {
     "cell_type": "markdown",
     "checksum": "8a0f6627dc3be9d5b4dbcddb38b50e02",
     "grade": false,
     "grade_id": "cell-08005a9d2c368f14",
     "locked": true,
     "schema_version": 3,
     "solution": false,
     "task": false
    }
   },
   "source": [
    "Your function should print a value exactly or close to (with absolute tolerance = 0.01) 1.41 for calDist([1,1],[0,0],'euclidean'). \n",
    "Your function should print a value exactly or close to (with absolute tolerance = 0.01) 3 for calDist([1,1],[0,0],'manhatten'). \n",
    "It should support higher dimension inputs. "
   ]
  },
  {
   "cell_type": "code",
   "execution_count": null,
   "metadata": {},
   "outputs": [],
   "source": [
    "calDist([1,1],[0,0],'euclidean')"
   ]
  },
  {
   "cell_type": "code",
   "execution_count": null,
   "metadata": {},
   "outputs": [],
   "source": [
    "calDist([1,1],[0,0],'manhattan')"
   ]
  },
  {
   "cell_type": "code",
   "execution_count": null,
   "metadata": {},
   "outputs": [],
   "source": [
    "calDist([1,1,2],[0,0,1],'manhattan')"
   ]
  },
  {
   "cell_type": "code",
   "execution_count": null,
   "metadata": {
    "deletable": false,
    "editable": false,
    "nbgrader": {
     "cell_type": "code",
     "checksum": "7739286201efe140b5cdfc5383806c09",
     "grade": true,
     "grade_id": "CalDistTest",
     "locked": true,
     "points": 2,
     "schema_version": 3,
     "solution": false,
     "task": false
    }
   },
   "outputs": [],
   "source": [
    "\"\"\"Check that calDist returns the correct output for several inputs\"\"\"\n",
    "import math\n",
    "assert math.isclose(calDist([1,1],[0,0],'euclidean'), 1.414, abs_tol=0.01)\n",
    "assert math.isclose(calDist([1,1],[0,0],'manhattan'), 2, abs_tol=0.01)\n",
    "assert math.isclose(calDist([1,1,2],[0,0,1],'manhattan'), 3, abs_tol=0.01)"
   ]
  },
  {
   "cell_type": "markdown",
   "metadata": {
    "deletable": false,
    "editable": false,
    "nbgrader": {
     "cell_type": "markdown",
     "checksum": "5b379b821ae59f8fb5177fbb304fb61b",
     "grade": false,
     "grade_id": "Q2",
     "locked": true,
     "schema_version": 3,
     "solution": false,
     "task": false
    }
   },
   "source": [
    "**Problem-1.02:** Write a function that returns the k nearest neighbors to a given point from a set of points, along with their corresponding indices in the set."
   ]
  },
  {
   "cell_type": "code",
   "execution_count": null,
   "metadata": {
    "deletable": false,
    "nbgrader": {
     "cell_type": "code",
     "checksum": "1035fccee07592d7723d1c00eabaa474",
     "grade": false,
     "grade_id": "cell-7b77aeca027bdc3e",
     "locked": false,
     "schema_version": 3,
     "solution": true,
     "task": false
    }
   },
   "outputs": [],
   "source": [
    "import numpy as np\n",
    "\n",
    "def k_nearest_neighbors(p, points, k, metric):\n",
    "    \"\"\"\n",
    "    Finds the k nearest neighbors of point `p` in the dataset `points` using the specified distance metric.\n",
    "    \n",
    "    Parameters:\n",
    "    - p (list): The point (e.g., [x1, y1, z1, ...]).\n",
    "    - points (list of lists): The set of points (e.g., [[x1, y1, z1], [x2, y2, z2], ...]).\n",
    "    - k (int): The number of nearest neighbors to find.\n",
    "    - metric (str): The distance metric, either 'euclidean' or 'manhattan'.\n",
    "    \n",
    "    Returns:\n",
    "    - list: A list of the k nearest neighbors (each neighbor is a list representing a point) \n",
    "            and their index in `points`.\n",
    "    \"\"\"\n",
    "     # YOUR CODE HERE\n",
    "     raise NotImplementedError()\n"
   ]
  },
  {
   "cell_type": "code",
   "execution_count": null,
   "metadata": {},
   "outputs": [],
   "source": [
    "points = [[1, 2], [3, 4], [5, 6], [7, 8], [2, 3], [6, 7]]\n",
    "query_point = [1, 2]\n",
    "k = 3\n",
    "a,b=k_nearest_neighbors(query_point, points, k, 'euclidean')\n",
    "print(a)\n",
    "print(b)"
   ]
  },
  {
   "cell_type": "code",
   "execution_count": null,
   "metadata": {},
   "outputs": [],
   "source": [
    "points = [[1, 2], [3, 4], [5, 6], [7, 8], [2, 3], [6, 7]]\n",
    "query_point = [6, 7]\n",
    "k = 3\n",
    "a,b=k_nearest_neighbors(query_point, points, k, 'manhattan')\n",
    "print(a)\n",
    "print(b)"
   ]
  },
  {
   "cell_type": "code",
   "execution_count": null,
   "metadata": {
    "deletable": false,
    "editable": false,
    "nbgrader": {
     "cell_type": "code",
     "checksum": "a6ff33c329c2c1434f1ee895535a26e3",
     "grade": true,
     "grade_id": "k_nearest_neighborsTest",
     "locked": true,
     "points": 2,
     "schema_version": 3,
     "solution": false,
     "task": false
    }
   },
   "outputs": [],
   "source": [
    "\"\"\"Check that k_nearest_neighbors returns the correct output for several inputs using hidden test cases\"\"\""
   ]
  },
  {
   "cell_type": "markdown",
   "metadata": {
    "deletable": false,
    "editable": false,
    "nbgrader": {
     "cell_type": "markdown",
     "checksum": "629e153d7f3b5d366eed1f00a4277314",
     "grade": false,
     "grade_id": "Q3",
     "locked": true,
     "schema_version": 3,
     "solution": false,
     "task": false
    }
   },
   "source": [
    "**Problem-1.03**: Write a function that predicts the labels for validation data using the K-Nearest Neighbors (KNN) algorithm. The function should take the following arguments:\n",
    "\n",
    "    X_train: A numpy array of feature data for training.\n",
    "    y_train: A numpy array of labels for the training data.\n",
    "    testPoint: A single validation or test data sample to predict the label for.\n",
    "    k: The number of nearest neighbors to consider for the prediction.\n",
    "    distance_metric: The type of distance metric to use ('euclidean' or 'manhattan').\n",
    "\n",
    "The function should return the predicted labels for the validation data sample based on the KNN algorithm."
   ]
  },
  {
   "cell_type": "code",
   "execution_count": null,
   "metadata": {
    "deletable": false,
    "nbgrader": {
     "cell_type": "code",
     "checksum": "f8c2dad0615a9e55abbfd48fe472e950",
     "grade": false,
     "grade_id": "knn_predict",
     "locked": false,
     "schema_version": 3,
     "solution": true,
     "task": false
    }
   },
   "outputs": [],
   "source": [
    "import numpy as np\n",
    "\n",
    "def knn_predict(X_train, y_train, testPoint, k, distance_metric='euclidean'):\n",
    "  \"\"\"\n",
    "  Predicts labels for validation data using the K-Nearest Neighbors algorithm.\n",
    "\n",
    "  Args:\n",
    "    X_train: Training data features (numpy array).\n",
    "    y_train: Training data labels (numpy array).\n",
    "    testPoint: Validation or test data sample (numpy array).\n",
    "    k: Number of nearest neighbors to consider.\n",
    "    distance_metric: Distance metric to use ('euclidean' or 'manhattan').\n",
    "\n",
    "  Returns:\n",
    "    predictions: List of predicted labels for the validation data.\n",
    "  \"\"\"\n",
    "  # YOUR CODE HERE\n",
    "  raise NotImplementedError()\n",
    "\n",
    "# Example usage:\n",
    "# Assuming you have functions for k_nearest_neighbors and necessary imports\n",
    "#X_train = np.array([[1, 2], [2, 3], [3, 4], [6, 7], [7, 8]])\n",
    "#y_train = np.array([0, 0, 1, 1, 1])  # Labels for the training data\n",
    "#testPoint = np.array([2, 2])  # Test point for prediction\n",
    "#k = 3  # Number of neighbors\n",
    "#predicted_label = knn_predict(X_train, y_train, testPoint, k, 'euclidean')"
   ]
  },
  {
   "cell_type": "code",
   "execution_count": null,
   "metadata": {
    "deletable": false,
    "editable": false,
    "nbgrader": {
     "cell_type": "code",
     "checksum": "a7ae44131626be22de2e3e6b2494625d",
     "grade": true,
     "grade_id": "knn_predictTest",
     "locked": true,
     "points": 4,
     "schema_version": 3,
     "solution": false,
     "task": false
    }
   },
   "outputs": [],
   "source": [
    "\"\"\"Check that knn_predict returns the correct output for several inputs using hidden test cases\"\"\"\n"
   ]
  },
  {
   "cell_type": "markdown",
   "metadata": {
    "deletable": false,
    "editable": false,
    "nbgrader": {
     "cell_type": "markdown",
     "checksum": "3b74f18abe00652573d5fcd50cec32e0",
     "grade": false,
     "grade_id": "Q4",
     "locked": true,
     "schema_version": 3,
     "solution": false,
     "task": false
    }
   },
   "source": [
    "Now, we shall use our learning for classifying handwritten digits into one of the classes (0 to 9). Complete the following code so that accuracy on validation data can be computed. You should use knn_predict function you have already written to complete this.\n",
    "\n",
    "**Problem-1.04**: Review the provided code and complete it by invoking the knn_predict function for each sample in the validation dataset. The predictions list should store the predicted labels for each sample in the validation set."
   ]
  },
  {
   "cell_type": "code",
   "execution_count": null,
   "metadata": {
    "deletable": false,
    "nbgrader": {
     "cell_type": "code",
     "checksum": "961595b4ff25c06e50da2a657de5e9db",
     "grade": true,
     "grade_id": "knn",
     "locked": false,
     "points": 5,
     "schema_version": 3,
     "solution": true,
     "task": false
    }
   },
   "outputs": [],
   "source": [
    "!pip install tqdm\n",
    "import pandas as pd\n",
    "import numpy as np\n",
    "import matplotlib.pyplot as plt\n",
    "from sklearn.model_selection import train_test_split\n",
    "from sklearn.metrics import accuracy_score\n",
    "from tqdm import tqdm\n",
    "\n",
    "# Step 1: Load the mnist_student.csv dataset\n",
    "# Load the data from the provided mnist_student.csv file\n",
    "data = pd.read_csv('mnist_student.csv')\n",
    "\n",
    "# Separate features (X) and labels (y)\n",
    "X = data.drop('label', axis=1)  # Features (28x28 pixel images flattened)\n",
    "y = data['label']  # Labels\n",
    "\n",
    "# Normalize the pixel values to be between 0 and 1\n",
    "X = X / 255.0\n",
    "\n",
    "# Step 2: Split the dataset into training and validation sets\n",
    "X_train, X_val, y_train, y_val = train_test_split(X, y, train_size=0.8, random_state=42)\n",
    "X_train=X_train.values\n",
    "y_train=y_train.values\n",
    "X_val=X_val.values\n",
    "y_val=y_val.values\n",
    "k=5\n",
    "predictions=[]\n",
    "\n",
    "## Complete this code by calling knn_predict for each sample of validation data and\n",
    "## predictions should store predicted labels for each of the validation set samples\n",
    "# YOUR CODE HERE\n",
    "raise NotImplementedError()\n",
    "\n",
    "# Compute accuracy on validation set\n",
    "accuracy = accuracy_score(y_val, predictions)\n",
    "print(f'Validation Accuracy: {accuracy * 100:.2f}%')\n",
    "\n",
    "# You can also display some images and their predicted labels here\n"
   ]
  },
  {
   "cell_type": "markdown",
   "metadata": {},
   "source": [
    "Next, we provide you a helper code that you can use to visualize the result of your implementation. It will randomly choose 5 samples from validation set and show true (actual) and predicated labels. "
   ]
  },
  {
   "cell_type": "code",
   "execution_count": null,
   "metadata": {},
   "outputs": [],
   "source": [
    "import matplotlib.pyplot as plt\n",
    "import numpy as np\n",
    "\n",
    "# Assuming `predictions` is the list of predicted labels for the validation set\n",
    "\n",
    "# Step 3: Display some of the predicted samples\n",
    "def plot_samples(X_val, y_val, predictions, num_samples=5):\n",
    "    # Randomly select `num_samples` to display\n",
    "    random_indices = np.random.choice(len(X_val), size=num_samples, replace=False)\n",
    "    \n",
    "    fig, axes = plt.subplots(1, num_samples, figsize=(15, 5))\n",
    "    for i, idx in enumerate(random_indices):\n",
    "        # Get the sample image (reshape from 1D array to 28x28)\n",
    "        img = X_val[idx].reshape(28, 28)\n",
    "        true_label = y_val[idx]\n",
    "        predicted_label = predictions[idx]\n",
    "        \n",
    "        # Plot the image\n",
    "        axes[i].imshow(img, cmap='gray')\n",
    "        axes[i].set_title(f\"True: {true_label}\\nPred: {predicted_label}\")\n",
    "        axes[i].axis('off')\n",
    "    \n",
    "    plt.show()\n",
    "\n",
    "# Call the function to display 5 random samples\n",
    "plot_samples(X_val, y_val, predictions, num_samples=5)\n"
   ]
  },
  {
   "cell_type": "markdown",
   "metadata": {},
   "source": [
    "Review, understand and try out this code which draws confusion matrix on validation set. "
   ]
  },
  {
   "cell_type": "code",
   "execution_count": null,
   "metadata": {},
   "outputs": [],
   "source": [
    "!pip install seaborn\n",
    "import numpy as np\n",
    "import matplotlib.pyplot as plt\n",
    "from sklearn.metrics import confusion_matrix\n",
    "import seaborn as sns\n",
    "\n",
    "# Assuming `predictions` contains the predicted labels and `y_val` contains the true labels\n",
    "\n",
    "# Step 1: Compute the confusion matrix\n",
    "cm = confusion_matrix(y_val, predictions)\n",
    "\n",
    "# Step 2: Plot the confusion matrix\n",
    "def plot_confusion_matrix(cm, class_names):\n",
    "    plt.figure(figsize=(10, 7))\n",
    "    sns.heatmap(cm, annot=True, fmt='d', cmap='Blues', xticklabels=class_names, yticklabels=class_names)\n",
    "    plt.title('Confusion Matrix')\n",
    "    plt.xlabel('Predicted Labels')\n",
    "    plt.ylabel('True Labels')\n",
    "    plt.show()\n",
    "\n",
    "# Step 3: Get class names (if not already available)\n",
    "class_names = [str(i) for i in range(10)]  # For MNIST dataset (digits 0-9)\n",
    "\n",
    "# Step 4: Call the function to plot the confusion matrix\n",
    "plot_confusion_matrix(cm, class_names)\n"
   ]
  },
  {
   "cell_type": "markdown",
   "metadata": {
    "deletable": false,
    "editable": false,
    "nbgrader": {
     "cell_type": "markdown",
     "checksum": "f7e4587f3929d95a72dd1390903d5ded",
     "grade": false,
     "grade_id": "Q5",
     "locked": true,
     "points": 2,
     "schema_version": 3,
     "solution": false,
     "task": true
    }
   },
   "source": [
    "**Problem-1.05:** What value of k gave you best validation accuracy. How many values you tried? "
   ]
  },
  {
   "cell_type": "markdown",
   "metadata": {
    "deletable": false,
    "editable": false,
    "nbgrader": {
     "cell_type": "markdown",
     "checksum": "48a76b62b83055bc8131f60dbefd92b9",
     "grade": false,
     "grade_id": "Q6",
     "locked": true,
     "points": 2,
     "schema_version": 3,
     "solution": false,
     "task": true
    }
   },
   "source": [
    "**Problem-1.06:** Write your observation about failure cases from visual inspection of results."
   ]
  },
  {
   "cell_type": "markdown",
   "metadata": {
    "deletable": false,
    "editable": false,
    "nbgrader": {
     "cell_type": "markdown",
     "checksum": "8554d056fd3a03321466da9a6f8a74d4",
     "grade": false,
     "grade_id": "Q7",
     "locked": true,
     "points": 2,
     "schema_version": 3,
     "solution": false,
     "task": true
    }
   },
   "source": [
    "**Problem-1.07:** What did you observe from the confusion matrix? "
   ]
  },
  {
   "cell_type": "markdown",
   "metadata": {
    "deletable": false,
    "editable": false,
    "nbgrader": {
     "cell_type": "markdown",
     "checksum": "885a8d0340432e5e070f9ecd6516c05b",
     "grade": false,
     "grade_id": "Q8",
     "locked": true,
     "points": 2,
     "schema_version": 3,
     "solution": false,
     "task": true
    }
   },
   "source": [
    "**Problem-1.08:** For a fix k, which distance metric gave you better result? "
   ]
  },
  {
   "cell_type": "markdown",
   "metadata": {
    "deletable": false,
    "editable": false,
    "nbgrader": {
     "cell_type": "markdown",
     "checksum": "2a6dccff1f2dd599a41af6d865563a1a",
     "grade": false,
     "grade_id": "Q9",
     "locked": true,
     "points": 2,
     "schema_version": 3,
     "solution": false,
     "task": true
    }
   },
   "source": [
    "**Problem-1.09:** How did you handle ties in the k-NN algorithm? For instance, if the three nearest neighbors belong to three different classes, how is the final prediction determined? Which part of your code addresses this issue? Please point it out."
   ]
  },
  {
   "cell_type": "markdown",
   "metadata": {
    "deletable": false,
    "editable": false,
    "nbgrader": {
     "cell_type": "markdown",
     "checksum": "fa49da179d7810aac5482cafe9441c0d",
     "grade": false,
     "grade_id": "Q10",
     "locked": true,
     "points": 2,
     "schema_version": 3,
     "solution": false,
     "task": true
    }
   },
   "source": [
    "**Problem-1.10: Ethical Reflection and Acknowledgments (Mandatory Question)**\n",
    "(i) List all collaborators, references, or resources you used. If none, write \"NA.\"\n",
    "\n",
    "(ii) Estimate the percentage of the code you wrote yourself.\n",
    "\n",
    "(iii) Reflect on your ethical practices (Yes/No):\n",
    "\n",
    "    (a) Did you avoid copying code without understanding it?\n",
    "    (b) Did you properly cite all resources and collaborators?\n",
    "        "
   ]
  }
 ],
 "metadata": {
  "kernelspec": {
   "display_name": "Python 3 (ipykernel)",
   "language": "python",
   "name": "python3"
  },
  "language_info": {
   "codemirror_mode": {
    "name": "ipython",
    "version": 3
   },
   "file_extension": ".py",
   "mimetype": "text/x-python",
   "name": "python",
   "nbconvert_exporter": "python",
   "pygments_lexer": "ipython3",
   "version": "3.10.12"
  }
 },
 "nbformat": 4,
 "nbformat_minor": 4
}

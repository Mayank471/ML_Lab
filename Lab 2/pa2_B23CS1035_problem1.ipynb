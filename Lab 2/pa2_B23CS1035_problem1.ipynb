{
  "cells": [
    {
      "cell_type": "markdown",
      "metadata": {
        "id": "nu8KMT6bSEB8"
      },
      "source": [
        "Before you turn this problem in, make sure everything runs as expected. First, **restart the kernel** (in the menubar, select Kernel $\\rightarrow$ Restart) and then **run all cells** (in the menubar, select Cell $\\rightarrow$ Run All).\n",
        "\n",
        "Make sure you fill in any place that says `YOUR CODE HERE` or \"YOUR ANSWER HERE\", as well as your name and collaborators below:"
      ]
    },
    {
      "cell_type": "code",
      "execution_count": 14,
      "metadata": {
        "id": "_J8f1qaJSEB-"
      },
      "outputs": [],
      "source": [
        "NAME = \"Mayank Dahiya\"\n",
        "COLLABORATORS = \"W3 Schools , GeeksforGeeks\""
      ]
    },
    {
      "cell_type": "markdown",
      "metadata": {
        "id": "iSzYizhuSEB_"
      },
      "source": [
        "---"
      ]
    },
    {
      "cell_type": "markdown",
      "metadata": {
        "id": "BIBnDjLkSECA"
      },
      "source": [
        "## CSL2050: Pattern Recognition and Machine Learning<br>\n",
        "Programming Assignment-2<br>\n",
        "Spring 2025<br>"
      ]
    },
    {
      "cell_type": "markdown",
      "metadata": {
        "id": "2Wi3x_VZSECA"
      },
      "source": [
        "---\n",
        "## KNN Classification\n",
        "In this assignment, we will implement K-nearest neighbour for Handwritten Digit Classification problem. For handwritten digit classification problem, we shall use a small subset of MNIST Dataset.\n",
        "\n",
        "KNN algorithm has three important modules: (i) Distance Computation and (ii) Finding K nearest neigbour to a point, (iii) Predicting the label for a test point. Let us first implement them."
      ]
    },
    {
      "cell_type": "markdown",
      "metadata": {
        "deletable": false,
        "editable": false,
        "nbgrader": {
          "cell_type": "markdown",
          "checksum": "d5269395b8c88199e1b5b826a84c31c7",
          "grade": false,
          "grade_id": "Q1",
          "locked": true,
          "schema_version": 3,
          "solution": false,
          "task": false
        },
        "id": "w3kIPMLDSECA"
      },
      "source": [
        "**Problem 1.01:** Write a function to compute distance between two points. The function should compute either Eucleadean or Manhattan distance based on the argument passed in the function. (2 points)"
      ]
    },
    {
      "cell_type": "code",
      "execution_count": 15,
      "metadata": {
        "deletable": false,
        "nbgrader": {
          "cell_type": "code",
          "checksum": "4fcccf28696ae1676dbb7a55daa96c00",
          "grade": false,
          "grade_id": "calDist",
          "locked": false,
          "schema_version": 3,
          "solution": true,
          "task": false
        },
        "id": "moqFs1BcSECA"
      },
      "outputs": [],
      "source": [
        "import math\n",
        "def calDist(x,y,metric):\n",
        "    \"\"\"Compute the distance (either euclidean or manhattan)\n",
        "\n",
        "    \"\"\"\n",
        "    if metric=='euclidean':   #If metric is Euclidean , it will calculate the euclidean distance.\n",
        "      dist = math.sqrt(sum([(a - b) ** 2 for a, b in zip(x, y)])) # Formula of Euclidean distance\n",
        "      return dist\n",
        "    elif metric=='manhattan':   #If metric is manhattan , it will calculate the manhattan distance\n",
        "      return sum([abs(a - b) for a, b in zip(x, y)])   # Formula of manhattan distance"
      ]
    },
    {
      "cell_type": "markdown",
      "metadata": {
        "deletable": false,
        "editable": false,
        "nbgrader": {
          "cell_type": "markdown",
          "checksum": "8a0f6627dc3be9d5b4dbcddb38b50e02",
          "grade": false,
          "grade_id": "cell-08005a9d2c368f14",
          "locked": true,
          "schema_version": 3,
          "solution": false,
          "task": false
        },
        "id": "IMuQaJNPSECA"
      },
      "source": [
        "Your function should print a value exactly or close to (with absolute tolerance = 0.01) 1.41 for calDist([1,1],[0,0],'euclidean').\n",
        "Your function should print a value exactly or close to (with absolute tolerance = 0.01) 3 for calDist([1,1],[0,0],'manhatten').\n",
        "It should support higher dimension inputs."
      ]
    },
    {
      "cell_type": "code",
      "execution_count": 16,
      "metadata": {
        "colab": {
          "base_uri": "https://localhost:8080/"
        },
        "id": "y4a6hKA3SECB",
        "outputId": "fa062233-84f5-413d-dd35-7a40d758b05f"
      },
      "outputs": [
        {
          "output_type": "execute_result",
          "data": {
            "text/plain": [
              "1.4142135623730951"
            ]
          },
          "metadata": {},
          "execution_count": 16
        }
      ],
      "source": [
        "calDist([1,1],[0,0],'euclidean')"
      ]
    },
    {
      "cell_type": "code",
      "execution_count": 17,
      "metadata": {
        "colab": {
          "base_uri": "https://localhost:8080/"
        },
        "id": "alobAIy8SECB",
        "outputId": "f34c171c-1aab-494d-e64d-41b8fa6b54be"
      },
      "outputs": [
        {
          "output_type": "execute_result",
          "data": {
            "text/plain": [
              "2"
            ]
          },
          "metadata": {},
          "execution_count": 17
        }
      ],
      "source": [
        "calDist([1,1],[0,0],'manhattan')"
      ]
    },
    {
      "cell_type": "code",
      "execution_count": 18,
      "metadata": {
        "colab": {
          "base_uri": "https://localhost:8080/"
        },
        "id": "IwssyF0zSECB",
        "outputId": "2bdf2b96-b731-4db9-d01f-d912edcf0926"
      },
      "outputs": [
        {
          "output_type": "execute_result",
          "data": {
            "text/plain": [
              "3"
            ]
          },
          "metadata": {},
          "execution_count": 18
        }
      ],
      "source": [
        "calDist([1,1,2],[0,0,1],'manhattan')"
      ]
    },
    {
      "cell_type": "code",
      "execution_count": 19,
      "metadata": {
        "deletable": false,
        "editable": false,
        "nbgrader": {
          "cell_type": "code",
          "checksum": "7739286201efe140b5cdfc5383806c09",
          "grade": true,
          "grade_id": "CalDistTest",
          "locked": true,
          "points": 2,
          "schema_version": 3,
          "solution": false,
          "task": false
        },
        "id": "24gzaHzBSECB"
      },
      "outputs": [],
      "source": [
        "\"\"\"Check that calDist returns the correct output for several inputs\"\"\"\n",
        "import math\n",
        "assert math.isclose(calDist([1,1],[0,0],'euclidean'), 1.414, abs_tol=0.01)\n",
        "assert math.isclose(calDist([1,1],[0,0],'manhattan'), 2, abs_tol=0.01)\n",
        "assert math.isclose(calDist([1,1,2],[0,0,1],'manhattan'), 3, abs_tol=0.01)"
      ]
    },
    {
      "cell_type": "markdown",
      "metadata": {
        "deletable": false,
        "editable": false,
        "nbgrader": {
          "cell_type": "markdown",
          "checksum": "5b379b821ae59f8fb5177fbb304fb61b",
          "grade": false,
          "grade_id": "Q2",
          "locked": true,
          "schema_version": 3,
          "solution": false,
          "task": false
        },
        "id": "FWEhnQhqSECB"
      },
      "source": [
        "**Problem-1.02:** Write a function that returns the k nearest neighbors to a given point from a set of points, along with their corresponding indices in the set."
      ]
    },
    {
      "cell_type": "code",
      "execution_count": 20,
      "metadata": {
        "deletable": false,
        "nbgrader": {
          "cell_type": "code",
          "checksum": "1035fccee07592d7723d1c00eabaa474",
          "grade": false,
          "grade_id": "cell-7b77aeca027bdc3e",
          "locked": false,
          "schema_version": 3,
          "solution": true,
          "task": false
        },
        "id": "qG6UBfEnSECB"
      },
      "outputs": [],
      "source": [
        "import numpy as np\n",
        "\n",
        "def k_nearest_neighbors(p, points, k, metric):\n",
        "    \"\"\"\n",
        "    Finds the k nearest neighbors of point `p` in the dataset `points` using the specified distance metric.\n",
        "\n",
        "    Parameters:\n",
        "    - p (list): The point (e.g., [x1, y1, z1, ...]).\n",
        "    - points (list of lists): The set of points (e.g., [[x1, y1, z1], [x2, y2, z2], ...]).\n",
        "    - k (int): The number of nearest neighbors to find.\n",
        "    - metric (str): The distance metric, either 'euclidean' or 'manhattan'.\n",
        "\n",
        "    Returns:\n",
        "    - list: A list of the k nearest neighbors (each neighbor is a list representing a point)\n",
        "            and their index in `points`.\n",
        "\n",
        "    \"\"\"\n",
        "    if metric not in ['euclidean', 'manhattan']:  #If metric is not any one of this string , it will raise a error\n",
        "        raise ValueError(\"Invalid distance metric. Use 'euclidean' or 'manhattan'.\")\n",
        "\n",
        "    if metric == 'euclidean':  #If metric is euclidean , it will calculate the euclidean distance\n",
        "        distances = [(calDist(p, point, 'euclidean'), idx) for idx, point in enumerate(points)]\n",
        "        nearest_indices = [idx for dist, idx in sorted(distances)[:k]]  # Sort the distances and taking k indices\n",
        "        nearest_neighbors = [points[idx] for idx in nearest_indices]  # Collecting the value of numbers in respective k indices\n",
        "        return nearest_neighbors, nearest_indices\n",
        "    elif metric == 'manhattan':  #If metric is manhattan , it will calculate the manhattan distance\n",
        "        distances = [(calDist(p, point, 'manhattan'), idx) for idx, point in enumerate(points)]\n",
        "        nearest_indices = [idx for dist, idx in sorted(distances)[:k]]  # Sort the distances and taking k indices\n",
        "        nearest_neighbors = [points[idx] for idx in nearest_indices]  # Collecting the values in respective k indices.\n",
        "        return nearest_neighbors, nearest_indices\n"
      ]
    },
    {
      "cell_type": "code",
      "execution_count": 21,
      "metadata": {
        "colab": {
          "base_uri": "https://localhost:8080/"
        },
        "id": "FtliVXI6SECC",
        "outputId": "77402dd9-f330-4f84-f4c2-b66481ede7df"
      },
      "outputs": [
        {
          "output_type": "stream",
          "name": "stdout",
          "text": [
            "[[1, 2], [2, 3], [3, 4]]\n",
            "[0, 4, 1]\n"
          ]
        }
      ],
      "source": [
        "points = [[1, 2], [3, 4], [5, 6], [7, 8], [2, 3], [6, 7]]\n",
        "query_point = [1, 2]\n",
        "k = 3\n",
        "a,b=k_nearest_neighbors(query_point, points, k, 'euclidean')\n",
        "print(a)\n",
        "print(b)"
      ]
    },
    {
      "cell_type": "code",
      "execution_count": 22,
      "metadata": {
        "colab": {
          "base_uri": "https://localhost:8080/"
        },
        "id": "mjFN6kcLSECC",
        "outputId": "ee2f21bd-e304-4f8a-90c4-34cd030537d6"
      },
      "outputs": [
        {
          "output_type": "stream",
          "name": "stdout",
          "text": [
            "[[6, 7], [5, 6], [7, 8]]\n",
            "[5, 2, 3]\n"
          ]
        }
      ],
      "source": [
        "points = [[1, 2], [3, 4], [5, 6], [7, 8], [2, 3], [6, 7]]\n",
        "query_point = [6, 7]\n",
        "k = 3\n",
        "a,b=k_nearest_neighbors(query_point, points, k, 'manhattan')\n",
        "print(a)\n",
        "print(b)"
      ]
    },
    {
      "cell_type": "code",
      "execution_count": 23,
      "metadata": {
        "deletable": false,
        "editable": false,
        "nbgrader": {
          "cell_type": "code",
          "checksum": "a6ff33c329c2c1434f1ee895535a26e3",
          "grade": true,
          "grade_id": "k_nearest_neighborsTest",
          "locked": true,
          "points": 2,
          "schema_version": 3,
          "solution": false,
          "task": false
        },
        "colab": {
          "base_uri": "https://localhost:8080/",
          "height": 36
        },
        "id": "bw3GiNfKSECC",
        "outputId": "b26fd4f9-3429-432f-e388-b622d7d87c24"
      },
      "outputs": [
        {
          "output_type": "execute_result",
          "data": {
            "text/plain": [
              "'Check that k_nearest_neighbors returns the correct output for several inputs using hidden test cases'"
            ],
            "application/vnd.google.colaboratory.intrinsic+json": {
              "type": "string"
            }
          },
          "metadata": {},
          "execution_count": 23
        }
      ],
      "source": [
        "\"\"\"Check that k_nearest_neighbors returns the correct output for several inputs using hidden test cases\"\"\""
      ]
    },
    {
      "cell_type": "markdown",
      "metadata": {
        "deletable": false,
        "editable": false,
        "nbgrader": {
          "cell_type": "markdown",
          "checksum": "629e153d7f3b5d366eed1f00a4277314",
          "grade": false,
          "grade_id": "Q3",
          "locked": true,
          "schema_version": 3,
          "solution": false,
          "task": false
        },
        "id": "HKpYC4OVSECC"
      },
      "source": [
        "**Problem-1.03**: Write a function that predicts the labels for validation data using the K-Nearest Neighbors (KNN) algorithm. The function should take the following arguments:\n",
        "\n",
        "    X_train: A numpy array of feature data for training.\n",
        "    y_train: A numpy array of labels for the training data.\n",
        "    testPoint: A single validation or test data sample to predict the label for.\n",
        "    k: The number of nearest neighbors to consider for the prediction.\n",
        "    distance_metric: The type of distance metric to use ('euclidean' or 'manhattan').\n",
        "\n",
        "The function should return the predicted labels for the validation data sample based on the KNN algorithm."
      ]
    },
    {
      "cell_type": "code",
      "execution_count": 24,
      "metadata": {
        "deletable": false,
        "nbgrader": {
          "cell_type": "code",
          "checksum": "f8c2dad0615a9e55abbfd48fe472e950",
          "grade": false,
          "grade_id": "knn_predict",
          "locked": false,
          "schema_version": 3,
          "solution": true,
          "task": false
        },
        "id": "EZfFyONYSECC"
      },
      "outputs": [],
      "source": [
        "import numpy as np\n",
        "\n",
        "def knn_predict(X_train, y_train, testPoint, k, distance_metric='euclidean'):\n",
        "  \"\"\"\n",
        "  Predicts labels for validation data using the K-Nearest Neighbors algorithm.\n",
        "\n",
        "  Args:\n",
        "    X_train: Training data features (numpy array).\n",
        "    y_train: Training data labels (numpy array).\n",
        "    testPoint: Validation or test data sample (numpy array).\n",
        "    k: Number of nearest neighbors to consider.\n",
        "    distance_metric: Distance metric to use ('euclidean' or 'manhattan').\n",
        "\n",
        "  Returns:\n",
        "    predictions: List of predicted labels for the validation data.\n",
        "  \"\"\"\n",
        "  predictions=[]     # Creates an empty list\n",
        "  a,b=k_nearest_neighbors(testPoint, X_train, k, distance_metric)  # Calling the k_nearest_neighbour function to find\n",
        "  #Distance of the k-nearest neighbor from the testPoint and Indices of the k-nearest neighbor in X_train\n",
        "  unique, counts = np.unique(y_train[b], return_counts=True) # Extracts the labels of the k-nearest neighbors from y_train using indices b\n",
        "  index = counts.argmax()  # Finds the index of the most frequent label using argmax()\n",
        "  predictions.append(unique[index]) # Add the most occured label to the prediction list.\n",
        "  return predictions\n",
        "\n",
        "  for i in tqdm(range(len(X_val))):\n",
        "    # Pass the entire data point (X_val[i]) to knn_predict\n",
        "    predictions.append(knn_predict(X_train, y_train, X_val[i], k, 'euclidean')[0])  # extract the prediction from the list\n",
        "\n",
        "\n",
        "\n",
        "# Example usage:\n",
        "# Assuming you have functions for k_nearest_neighbors and necessary imports\n",
        "#X_train = np.array([[1, 2], [2, 3], [3, 4], [6, 7], [7, 8]])\n",
        "#y_train = np.array([0, 0, 1, 1, 1])  # Labels for the training data\n",
        "#testPoint = np.array([2, 2])  # Test point for prediction\n",
        "#k = 3  # Number of neighbors\n",
        "#predicted_label = knn_predict(X_train, y_train, testPoint, k, 'euclidean')"
      ]
    },
    {
      "cell_type": "code",
      "execution_count": 25,
      "metadata": {
        "deletable": false,
        "editable": false,
        "nbgrader": {
          "cell_type": "code",
          "checksum": "a7ae44131626be22de2e3e6b2494625d",
          "grade": true,
          "grade_id": "knn_predictTest",
          "locked": true,
          "points": 4,
          "schema_version": 3,
          "solution": false,
          "task": false
        },
        "colab": {
          "base_uri": "https://localhost:8080/",
          "height": 36
        },
        "id": "OejMZLTRSECC",
        "outputId": "14e69295-d8a7-43ee-fbc4-2df994854e4c"
      },
      "outputs": [
        {
          "output_type": "execute_result",
          "data": {
            "text/plain": [
              "'Check that knn_predict returns the correct output for several inputs using hidden test cases'"
            ],
            "application/vnd.google.colaboratory.intrinsic+json": {
              "type": "string"
            }
          },
          "metadata": {},
          "execution_count": 25
        }
      ],
      "source": [
        "\"\"\"Check that knn_predict returns the correct output for several inputs using hidden test cases\"\"\"\n"
      ]
    },
    {
      "cell_type": "markdown",
      "metadata": {
        "deletable": false,
        "editable": false,
        "nbgrader": {
          "cell_type": "markdown",
          "checksum": "3b74f18abe00652573d5fcd50cec32e0",
          "grade": false,
          "grade_id": "Q4",
          "locked": true,
          "schema_version": 3,
          "solution": false,
          "task": false
        },
        "id": "Dww1poOXSECC"
      },
      "source": [
        "Now, we shall use our learning for classifying handwritten digits into one of the classes (0 to 9). Complete the following code so that accuracy on validation data can be computed. You should use knn_predict function you have already written to complete this.\n",
        "\n",
        "**Problem-1.04**: Review the provided code and complete it by invoking the knn_predict function for each sample in the validation dataset. The predictions list should store the predicted labels for each sample in the validation set."
      ]
    },
    {
      "cell_type": "code",
      "execution_count": 26,
      "metadata": {
        "deletable": false,
        "nbgrader": {
          "cell_type": "code",
          "checksum": "961595b4ff25c06e50da2a657de5e9db",
          "grade": true,
          "grade_id": "knn",
          "locked": false,
          "points": 5,
          "schema_version": 3,
          "solution": true,
          "task": false
        },
        "colab": {
          "base_uri": "https://localhost:8080/"
        },
        "id": "SL7jSMwXSECD",
        "outputId": "48f13bbb-233e-4c77-bbf8-610e43c0fa7c"
      },
      "outputs": [
        {
          "output_type": "stream",
          "name": "stdout",
          "text": [
            "Requirement already satisfied: tqdm in /usr/local/lib/python3.11/dist-packages (4.67.1)\n"
          ]
        },
        {
          "output_type": "stream",
          "name": "stderr",
          "text": [
            "100%|██████████| 200/200 [00:52<00:00,  3.84it/s]"
          ]
        },
        {
          "output_type": "stream",
          "name": "stdout",
          "text": [
            "Validation Accuracy: 87.50%\n"
          ]
        },
        {
          "output_type": "stream",
          "name": "stderr",
          "text": [
            "\n"
          ]
        }
      ],
      "source": [
        "!pip install tqdm\n",
        "import pandas as pd\n",
        "import numpy as np\n",
        "import matplotlib.pyplot as plt\n",
        "from sklearn.model_selection import train_test_split\n",
        "from sklearn.metrics import accuracy_score\n",
        "from tqdm import tqdm\n",
        "\n",
        "# Step 1: Load the mnist_student.csv dataset\n",
        "# Load the data from the provided mnist_student.csv file\n",
        "data = pd.read_csv('mnist_student.csv')\n",
        "\n",
        "# Separate features (X) and labels (y)\n",
        "X = data.drop('label', axis=1)  # Features (28x28 pixel images flattened)\n",
        "y = data['label']  # Labels\n",
        "\n",
        "# Normalize the pixel values to be between 0 and 1\n",
        "X = X / 255.0\n",
        "\n",
        "# Step 2: Split the dataset into training and validation sets\n",
        "X_train, X_val, y_train, y_val = train_test_split(X, y, train_size=0.8, random_state=42)\n",
        "X_train=X_train.values\n",
        "y_train=y_train.values\n",
        "X_val=X_val.values\n",
        "y_val=y_val.values\n",
        "k=7      # Defining the k value\n",
        "predictions=[]\n",
        "\n",
        "## Complete this code by calling knn_predict for each sample of validation data and\n",
        "## predictions should store predicted labels for each of the validation set samples\n",
        "# YOUR CODE HERE\n",
        "for i in tqdm(range(len(X_val))):\n",
        "   predictions.append(knn_predict(X_train, y_train, X_val[i], k, 'euclidean'))\n",
        "\n",
        "# Compute accuracy on validation set\n",
        "accuracy = accuracy_score(y_val, predictions)\n",
        "print(f'Validation Accuracy: {accuracy * 100:.2f}%')\n",
        "\n",
        "# You can also display some images and their predicted labels here\n"
      ]
    },
    {
      "cell_type": "markdown",
      "metadata": {
        "id": "vusHL3AGSECD"
      },
      "source": [
        "Next, we provide you a helper code that you can use to visualize the result of your implementation. It will randomly choose 5 samples from validation set and show true (actual) and predicated labels."
      ]
    },
    {
      "cell_type": "code",
      "execution_count": 27,
      "metadata": {
        "id": "iwlejfFzSECD",
        "colab": {
          "base_uri": "https://localhost:8080/",
          "height": 280
        },
        "outputId": "ae2b36b4-abc6-4b04-dd34-280a5fdfd972"
      },
      "outputs": [
        {
          "output_type": "display_data",
          "data": {
            "text/plain": [
              "<Figure size 1500x500 with 5 Axes>"
            ],
            "image/png": "[encoded data removed]"
          },
          "metadata": {}
        }
      ],
      "source": [
        "import matplotlib.pyplot as plt\n",
        "import numpy as np\n",
        "\n",
        "# Assuming `predictions` is the list of predicted labels for the validation set\n",
        "\n",
        "# Step 3: Display some of the predicted samples\n",
        "def plot_samples(X_val, y_val, predictions, num_samples=5):\n",
        "    # Randomly select `num_samples` to display\n",
        "    random_indices = np.random.choice(len(X_val), size=num_samples, replace=False)\n",
        "\n",
        "    fig, axes = plt.subplots(1, num_samples, figsize=(15, 5))\n",
        "    for i, idx in enumerate(random_indices):\n",
        "        # Get the sample image (reshape from 1D array to 28x28)\n",
        "        img = X_val[idx].reshape(28, 28)\n",
        "        true_label = y_val[idx]\n",
        "        predicted_label = predictions[idx]\n",
        "\n",
        "        # Plot the image\n",
        "        axes[i].imshow(img, cmap='gray')\n",
        "        axes[i].set_title(f\"True: {true_label}\\nPred: {predicted_label}\")\n",
        "        axes[i].axis('off')\n",
        "\n",
        "    plt.show()\n",
        "\n",
        "# Call the function to display 5 random samples\n",
        "plot_samples(X_val, y_val, predictions, num_samples=5)\n"
      ]
    },
    {
      "cell_type": "markdown",
      "metadata": {
        "id": "y7_QpvOYSECD"
      },
      "source": [
        "Review, understand and try out this code which draws confusion matrix on validation set."
      ]
    },
    {
      "cell_type": "code",
      "execution_count": 28,
      "metadata": {
        "id": "_6FRyFv0SECD",
        "colab": {
          "base_uri": "https://localhost:8080/",
          "height": 901
        },
        "outputId": "7ed4394b-bc9c-4b09-fd0c-5f2efe80cadc"
      },
      "outputs": [
        {
          "output_type": "stream",
          "name": "stdout",
          "text": [
            "Requirement already satisfied: seaborn in /usr/local/lib/python3.11/dist-packages (0.13.2)\n",
            "Requirement already satisfied: numpy!=1.24.0,>=1.20 in /usr/local/lib/python3.11/dist-packages (from seaborn) (1.26.4)\n",
            "Requirement already satisfied: pandas>=1.2 in /usr/local/lib/python3.11/dist-packages (from seaborn) (2.2.2)\n",
            "Requirement already satisfied: matplotlib!=3.6.1,>=3.4 in /usr/local/lib/python3.11/dist-packages (from seaborn) (3.10.0)\n",
            "Requirement already satisfied: contourpy>=1.0.1 in /usr/local/lib/python3.11/dist-packages (from matplotlib!=3.6.1,>=3.4->seaborn) (1.3.1)\n",
            "Requirement already satisfied: cycler>=0.10 in /usr/local/lib/python3.11/dist-packages (from matplotlib!=3.6.1,>=3.4->seaborn) (0.12.1)\n",
            "Requirement already satisfied: fonttools>=4.22.0 in /usr/local/lib/python3.11/dist-packages (from matplotlib!=3.6.1,>=3.4->seaborn) (4.55.7)\n",
            "Requirement already satisfied: kiwisolver>=1.3.1 in /usr/local/lib/python3.11/dist-packages (from matplotlib!=3.6.1,>=3.4->seaborn) (1.4.8)\n",
            "Requirement already satisfied: packaging>=20.0 in /usr/local/lib/python3.11/dist-packages (from matplotlib!=3.6.1,>=3.4->seaborn) (24.2)\n",
            "Requirement already satisfied: pillow>=8 in /usr/local/lib/python3.11/dist-packages (from matplotlib!=3.6.1,>=3.4->seaborn) (11.1.0)\n",
            "Requirement already satisfied: pyparsing>=2.3.1 in /usr/local/lib/python3.11/dist-packages (from matplotlib!=3.6.1,>=3.4->seaborn) (3.2.1)\n",
            "Requirement already satisfied: python-dateutil>=2.7 in /usr/local/lib/python3.11/dist-packages (from matplotlib!=3.6.1,>=3.4->seaborn) (2.8.2)\n",
            "Requirement already satisfied: pytz>=2020.1 in /usr/local/lib/python3.11/dist-packages (from pandas>=1.2->seaborn) (2024.2)\n",
            "Requirement already satisfied: tzdata>=2022.7 in /usr/local/lib/python3.11/dist-packages (from pandas>=1.2->seaborn) (2025.1)\n",
            "Requirement already satisfied: six>=1.5 in /usr/local/lib/python3.11/dist-packages (from python-dateutil>=2.7->matplotlib!=3.6.1,>=3.4->seaborn) (1.17.0)\n"
          ]
        },
        {
          "output_type": "display_data",
          "data": {
            "text/plain": [
              "<Figure size 1000x700 with 2 Axes>"
            ],
            "image/png": "[encoded data removed]"
          },
          "metadata": {}
        }
      ],
      "source": [
        "!pip install seaborn\n",
        "import numpy as np\n",
        "import matplotlib.pyplot as plt\n",
        "from sklearn.metrics import confusion_matrix\n",
        "import seaborn as sns\n",
        "\n",
        "# Assuming `predictions` contains the predicted labels and `y_val` contains the true labels\n",
        "\n",
        "# Step 1: Compute the confusion matrix\n",
        "cm = confusion_matrix(y_val, predictions)\n",
        "\n",
        "# Step 2: Plot the confusion matrix\n",
        "def plot_confusion_matrix(cm, class_names):\n",
        "    plt.figure(figsize=(10, 7))\n",
        "    sns.heatmap(cm, annot=True, fmt='d', cmap='Blues', xticklabels=class_names, yticklabels=class_names)\n",
        "    plt.title('Confusion Matrix')\n",
        "    plt.xlabel('Predicted Labels')\n",
        "    plt.ylabel('True Labels')\n",
        "    plt.show()\n",
        "\n",
        "# Step 3: Get class names (if not already available)\n",
        "class_names = [str(i) for i in range(10)]  # For MNIST dataset (digits 0-9)\n",
        "\n",
        "# Step 4: Call the function to plot the confusion matrix\n",
        "plot_confusion_matrix(cm, class_names)\n"
      ]
    },
    {
      "cell_type": "markdown",
      "metadata": {
        "deletable": false,
        "editable": false,
        "nbgrader": {
          "cell_type": "markdown",
          "checksum": "f7e4587f3929d95a72dd1390903d5ded",
          "grade": false,
          "grade_id": "Q5",
          "locked": true,
          "points": 2,
          "schema_version": 3,
          "solution": false,
          "task": true
        },
        "id": "_ioVe-LxSECD"
      },
      "source": [
        "**Problem-1.05:** What value of k gave you best validation accuracy. How many values you tried?"
      ]
    },
    {
      "cell_type": "markdown",
      "source": [
        "The Best validation accuracy was at k = 7.  I hvae tried for the following values of k. (k=1,2,3,4,5,6,7,8,9,10)"
      ],
      "metadata": {
        "id": "AvmHCmTdlY_q"
      }
    },
    {
      "cell_type": "markdown",
      "metadata": {
        "deletable": false,
        "editable": false,
        "nbgrader": {
          "cell_type": "markdown",
          "checksum": "48a76b62b83055bc8131f60dbefd92b9",
          "grade": false,
          "grade_id": "Q6",
          "locked": true,
          "points": 2,
          "schema_version": 3,
          "solution": false,
          "task": true
        },
        "id": "XtWquqSzSECD"
      },
      "source": [
        "**Problem-1.06:** Write your observation about failure cases from visual inspection of results."
      ]
    },
    {
      "cell_type": "markdown",
      "source": [
        "9 was misreaded as 8 because both have almost same alignments."
      ],
      "metadata": {
        "id": "A_SeTBROmFIT"
      }
    },
    {
      "cell_type": "markdown",
      "metadata": {
        "deletable": false,
        "editable": false,
        "nbgrader": {
          "cell_type": "markdown",
          "checksum": "8554d056fd3a03321466da9a6f8a74d4",
          "grade": false,
          "grade_id": "Q7",
          "locked": true,
          "points": 2,
          "schema_version": 3,
          "solution": false,
          "task": true
        },
        "id": "I3SEg556SECE"
      },
      "source": [
        "**Problem-1.07:** What did you observe from the confusion matrix?"
      ]
    },
    {
      "cell_type": "markdown",
      "source": [
        "I observed the following things from the confusion matrix:\n",
        "\n",
        "-> Three values labeled as 2 were predicted as 7 and two values labeled as 7 were predicated as 2.\n",
        "\n",
        "-> Five values labeled as 7 were predicted as 1.\n",
        "\n",
        "-> Two values labeled as 6 were predicted as 1.\n",
        "\n",
        "-> Two values labeled as 9 were predicted as 7.\n",
        "\n",
        "-> And for other values, most of the predictions were correct but for some\n",
        "   cases,only one labeled value was predicted wrong."
      ],
      "metadata": {
        "id": "M1zIh-MSmGdJ"
      }
    },
    {
      "cell_type": "markdown",
      "metadata": {
        "deletable": false,
        "editable": false,
        "nbgrader": {
          "cell_type": "markdown",
          "checksum": "885a8d0340432e5e070f9ecd6516c05b",
          "grade": false,
          "grade_id": "Q8",
          "locked": true,
          "points": 2,
          "schema_version": 3,
          "solution": false,
          "task": true
        },
        "id": "IElJVL9vSECE"
      },
      "source": [
        "**Problem-1.08:** For a fix k, which distance metric gave you better result?"
      ]
    },
    {
      "cell_type": "markdown",
      "source": [
        "For a fixed value of k , Euclidean distance gave better results."
      ],
      "metadata": {
        "id": "5ZHydYdNCQtE"
      }
    },
    {
      "cell_type": "markdown",
      "metadata": {
        "deletable": false,
        "editable": false,
        "nbgrader": {
          "cell_type": "markdown",
          "checksum": "2a6dccff1f2dd599a41af6d865563a1a",
          "grade": false,
          "grade_id": "Q9",
          "locked": true,
          "points": 2,
          "schema_version": 3,
          "solution": false,
          "task": true
        },
        "id": "SDEmd7zCSECE"
      },
      "source": [
        "**Problem-1.09:** How did you handle ties in the k-NN algorithm? For instance, if the three nearest neighbors belong to three different classes, how is the final prediction determined? Which part of your code addresses this issue? Please point it out."
      ]
    },
    {
      "cell_type": "markdown",
      "source": [
        "If the three nearest neighbours belong to three different classes , then the class that appears most frquently among those neighbours will be the prediction.\n",
        "\n",
        "This part of the function adresses the issue:\n",
        "\n",
        "unique, counts = np.unique(y_train[b], return_counts=True)\n",
        "\n",
        "  index = counts.argmax()\n",
        "\n",
        "  predictions.append(unique[index])"
      ],
      "metadata": {
        "id": "J6cwStNHDaTl"
      }
    },
    {
      "cell_type": "markdown",
      "metadata": {
        "deletable": false,
        "editable": false,
        "nbgrader": {
          "cell_type": "markdown",
          "checksum": "fa49da179d7810aac5482cafe9441c0d",
          "grade": false,
          "grade_id": "Q10",
          "locked": true,
          "points": 2,
          "schema_version": 3,
          "solution": false,
          "task": true
        },
        "id": "5Td4paskSECE"
      },
      "source": [
        "**Problem-1.10: Ethical Reflection and Acknowledgments (Mandatory Question)**\n",
        "(i) List all collaborators, references, or resources you used. If none, write \"NA.\"\n",
        "\n",
        "(ii) Estimate the percentage of the code you wrote yourself.\n",
        "\n",
        "(iii) Reflect on your ethical practices (Yes/No):\n",
        "\n",
        "    (a) Did you avoid copying code without understanding it?\n",
        "    (b) Did you properly cite all resources and collaborators?\n",
        "        "
      ]
    },
    {
      "cell_type": "markdown",
      "source": [
        "(i) W3Schools , GeeksforGeeks\n",
        "\n",
        "(ii) 60-70%\n",
        "\n",
        "(iii)\n",
        "(a) Yes , I tried to avoid copying code , rather i would find some articles in GeeksforGeeks and W3 Schools if i faced some problems.\n",
        "\n",
        "(b) Yes"
      ],
      "metadata": {
        "id": "KcJC1ly0nRXn"
      }
    }
  ],
  "metadata": {
    "kernelspec": {
      "display_name": "Python 3",
      "name": "python3"
    },
    "language_info": {
      "codemirror_mode": {
        "name": "ipython",
        "version": 3
      },
      "file_extension": ".py",
      "mimetype": "text/x-python",
      "name": "python",
      "nbconvert_exporter": "python",
      "pygments_lexer": "ipython3",
      "version": "3.10.12"
    },
    "colab": {
      "provenance": [],
      "gpuType": "T4"
    },
    "accelerator": "GPU"
  },
  "nbformat": 4,
  "nbformat_minor": 0
}
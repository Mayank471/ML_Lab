{
  "cells": [
    {
      "cell_type": "markdown",
      "id": "284bfca0",
      "metadata": {
        "id": "284bfca0"
      },
      "source": [
        "Before you turn this problem in, make sure everything runs as expected. First, **restart the kernel** (in the menubar, select Kernel $\\rightarrow$ Restart) and then **run all cells** (in the menubar, select Cell $\\rightarrow$ Run All).\n",
        "\n",
        "Make sure you fill in any place that says `YOUR CODE HERE` or \"YOUR ANSWER HERE\", as well as your name and collaborators below:"
      ]
    },
    {
      "cell_type": "code",
      "execution_count": 20,
      "id": "ea0f0b89",
      "metadata": {
        "id": "ea0f0b89"
      },
      "outputs": [],
      "source": [
        "NAME = \"Mayank Dahiya\"\n",
        "COLLABORATORS = \"W3Schools , GeeksforGeeks , Class Notes\""
      ]
    },
    {
      "cell_type": "markdown",
      "id": "46c4ce80",
      "metadata": {
        "id": "46c4ce80"
      },
      "source": [
        "---"
      ]
    },
    {
      "cell_type": "markdown",
      "id": "e3178d78-d1fa-4777-ab6c-08ea2ea58489",
      "metadata": {
        "deletable": false,
        "editable": false,
        "nbgrader": {
          "cell_type": "markdown",
          "checksum": "d088c829be3c25c943ba1d038c0183ee",
          "grade": false,
          "grade_id": "cell-9fff79d8d885a2af",
          "locked": true,
          "schema_version": 3,
          "solution": false,
          "task": false
        },
        "id": "e3178d78-d1fa-4777-ab6c-08ea2ea58489"
      },
      "source": [
        "## CSL2050: Pattern Recognition and Machine Learning<br>\n",
        "Programming Assignemnt-3<br>\n",
        "Spring 2025<br>"
      ]
    },
    {
      "cell_type": "markdown",
      "id": "60778af9-fbd0-4e1c-bb1e-200ab916e4d2",
      "metadata": {
        "deletable": false,
        "editable": false,
        "nbgrader": {
          "cell_type": "markdown",
          "checksum": "02d9be5c73c61db383e5e318e5a52987",
          "grade": false,
          "grade_id": "Q1",
          "locked": true,
          "points": 2,
          "schema_version": 3,
          "solution": false,
          "task": true
        },
        "id": "60778af9-fbd0-4e1c-bb1e-200ab916e4d2"
      },
      "source": [
        "Q1. Please take this **Honesty Pledge** by reading and copying it and writing your full name in capital letters:\n",
        "\n",
        "``I affirm that this assignment is solely my work. I have not used unauthorised assistance, engaged in plagiarism, or violated ethical standards, to the best of my knowledge. Further, all references used and any discussion with anyone have been appropriately cited. Any breach may lead to disciplinary actions as per the course academic honesty policy discussed in Lecture-1.\""
      ]
    },
    {
      "cell_type": "markdown",
      "id": "c530ce94-9516-4aeb-a939-0a00ef5ea42e",
      "metadata": {
        "deletable": false,
        "editable": false,
        "nbgrader": {
          "cell_type": "markdown",
          "checksum": "1e3048bf20a9d7f1ac38122f5518b092",
          "grade": false,
          "grade_id": "cell-bf44fffef69df8a0",
          "locked": true,
          "schema_version": 3,
          "solution": false,
          "task": false
        },
        "id": "c530ce94-9516-4aeb-a939-0a00ef5ea42e"
      },
      "source": [
        "In this assignment, we shall implement a binary decision tree from scratch. The Input/Output for decision tree construction is given here:\n",
        "**Input:**\n",
        "Data: Feature matrix (shape: 𝑛×𝑚, where 𝑛 is the number of samples, 𝑚 is the number of features).\n",
        "\n",
        "labels: Target labels (shape: 𝑛×1).\n",
        "\n",
        "max_depth: Maximum depth of the tree.\n",
        "\n",
        "**Output:**\n",
        "A trained decision tree."
      ]
    },
    {
      "cell_type": "markdown",
      "id": "964747ea-a75c-4c4b-ae36-139fddddd77d",
      "metadata": {
        "deletable": false,
        "editable": false,
        "nbgrader": {
          "cell_type": "markdown",
          "checksum": "2acec0878e27c288206e7220a01db824",
          "grade": false,
          "grade_id": "Q2",
          "locked": true,
          "schema_version": 3,
          "solution": false,
          "task": false
        },
        "id": "964747ea-a75c-4c4b-ae36-139fddddd77d"
      },
      "source": [
        "Q2. **Step-1: Compute entropy based on category-wise distribution of data**\n",
        "\n",
        "\\\\( H(Y) = -\\sum_{i=1}^{C} p_i log_2(p_i) \\\\)\n",
        "\n",
        "where C is the number of categories and \\\\( p_i \\\\) is probability of ith category.\n",
        "\n",
        "We will implement a function entropy that takes the labels of all data samples as input. The function will first compute the probability \\\\( p_i \\\\) each unique category in the labels. Then, using these probabilities, it will calculate and return the entropy.\n",
        "\n",
        "# Example usage\n",
        "labels = ['A', 'A', 'B', 'B']  #labels can be 0,1,2 or any non numeric values\n",
        "print(entropy(labels))  # will print 1    \n"
      ]
    },
    {
      "cell_type": "code",
      "execution_count": 21,
      "id": "52e76926-4faf-4a57-a5d6-ce3c1d09d365",
      "metadata": {
        "deletable": false,
        "nbgrader": {
          "cell_type": "code",
          "checksum": "be1fc23d9b7221c880d58e89cd1d0e42",
          "grade": false,
          "grade_id": "Q2ans",
          "locked": false,
          "schema_version": 3,
          "solution": true,
          "task": false
        },
        "id": "52e76926-4faf-4a57-a5d6-ce3c1d09d365"
      },
      "outputs": [],
      "source": [
        "\n",
        "import numpy as np\n",
        "\n",
        "def entropy(labels):\n",
        "    \"\"\"Compute entropy of the data with labels.\"\"\"\n",
        "    # Get unique labels and their count\n",
        "    unique_labels, counts = np.unique(labels, return_counts=True)\n",
        "\n",
        "    # Calculate probability for each unique label\n",
        "    probabilities = counts / len(labels)\n",
        "\n",
        "    # Calculate entropy\n",
        "    entropy = -np.sum(probabilities * np.log2(probabilities))\n",
        "\n",
        "    return entropy"
      ]
    },
    {
      "cell_type": "code",
      "execution_count": 22,
      "id": "bd96421b-4f56-4842-a8bb-bacd6c51aba7",
      "metadata": {
        "deletable": false,
        "editable": false,
        "nbgrader": {
          "cell_type": "code",
          "checksum": "3ef2b2ba43bed753e2133ac9fb2205e9",
          "grade": true,
          "grade_id": "Q2test",
          "locked": true,
          "points": 3,
          "schema_version": 3,
          "solution": false,
          "task": false
        },
        "colab": {
          "base_uri": "https://localhost:8080/"
        },
        "id": "bd96421b-4f56-4842-a8bb-bacd6c51aba7",
        "outputId": "86543eba-2143-4269-8a33-ee70feca85a4"
      },
      "outputs": [
        {
          "output_type": "stream",
          "name": "stdout",
          "text": [
            "✅ All visible test cases passed!\n"
          ]
        }
      ],
      "source": [
        "# AUTOGRADER TEST CASE - VISIBLE\n",
        "\n",
        "assert entropy(np.array([1, 1, 1, 1])) == 0.0, \"Test case 1 failed: Expected entropy 0.0\"\n",
        "assert np.isclose(entropy(np.array([0, 0, 1, 1])), 1.0), \"Test case 2 failed: Expected entropy 1.0\"\n",
        "assert np.isclose(entropy(np.array([0, 0, 0, 1])), -(0.75 * np.log2(0.75) + 0.25 * np.log2(0.25))), \"Test case 3 failed\"\n",
        "print(\"✅ All visible test cases passed!\")\n",
        "\n",
        "# AUTOGRADER TEST CASE - HIDDEN\n",
        "\n"
      ]
    },
    {
      "cell_type": "markdown",
      "id": "a750d7c9-c1f7-4761-ab70-7b753c5425bb",
      "metadata": {
        "deletable": false,
        "editable": false,
        "nbgrader": {
          "cell_type": "markdown",
          "checksum": "216e05f90b872a795b4377d961febfa2",
          "grade": false,
          "grade_id": "Q3",
          "locked": true,
          "schema_version": 3,
          "solution": false,
          "task": false
        },
        "id": "a750d7c9-c1f7-4761-ab70-7b753c5425bb"
      },
      "source": [
        "Q3. **Step 2: Compute Information Gain**\n",
        "\n",
        "Implement a function compute_information_gain that takes (i) data -- Feature matrix (shape: 𝑛×𝑚, where 𝑛 is the number of samples, 𝑚 is the number of features), (ii) feature_index -- an integer that is used to select a feature to evaluate its suitability to split the dataset, and (iii) the list of class labels, and it returns info_gain and threshold if that particular feature_index is chosen.\n",
        "\n",
        "Note that here you are supposed to compute information gain based on gain in entropy."
      ]
    },
    {
      "cell_type": "code",
      "execution_count": 23,
      "id": "8c23b374-3f11-435d-a982-0996ca7021ac",
      "metadata": {
        "deletable": false,
        "nbgrader": {
          "cell_type": "code",
          "checksum": "9abed8c83bb1f03db5726ca9cd45d92c",
          "grade": false,
          "grade_id": "Q3ans",
          "locked": false,
          "schema_version": 3,
          "solution": true,
          "task": false
        },
        "id": "8c23b374-3f11-435d-a982-0996ca7021ac"
      },
      "outputs": [],
      "source": [
        "def compute_information_gain(data, feature_index, labels):\n",
        "    \"\"\"\n",
        "    Computes information gain of a feature for a given dataset.\n",
        "\n",
        "    Parameters:\n",
        "    data (np.array): Feature matrix of shape (n_samples, n_features)\n",
        "    feature_index (int): Index of the feature to compute IG\n",
        "    labels (list or np.array): List of class labels\n",
        "\n",
        "    Returns:\n",
        "    float: Information gain\n",
        "    \"\"\"\n",
        "    # Calculate the initial entropy of the dataset before splitting\n",
        "    initial_entropy = entropy(labels)\n",
        "\n",
        "    # Find the unique values of the selected feature and use them as potential threshold\n",
        "    unique_values = np.unique(data[:, feature_index])\n",
        "\n",
        "    # Initialize variables to store the best information gain and threshold.\n",
        "    best_info_gain = 0\n",
        "    best_threshold = None\n",
        "\n",
        "    # Iterate through each unique value\n",
        "    for threshold in unique_values:\n",
        "        # Split the data into two subsets based on the threshold\n",
        "        left_indices = data[:, feature_index] <= threshold\n",
        "        right_indices = data[:, feature_index] > threshold\n",
        "\n",
        "        # Calculate the entropy of each subset\n",
        "        left_entropy = entropy(labels[left_indices])\n",
        "        right_entropy = entropy(labels[right_indices])\n",
        "\n",
        "        # Calculate the weighted average entropy after the split\n",
        "        weighted_entropy = (len(labels[left_indices]) / len(labels)) * left_entropy + \\\n",
        "                          (len(labels[right_indices]) / len(labels)) * right_entropy\n",
        "\n",
        "        # Calculate the information gain for this threshold\n",
        "        info_gain = initial_entropy - weighted_entropy\n",
        "\n",
        "        # Update the best information gain and threshold\n",
        "        if info_gain > best_info_gain:\n",
        "            best_info_gain = info_gain\n",
        "            best_threshold = threshold\n",
        "\n",
        "    # Return the best information gain and threshold.\n",
        "    return best_info_gain, best_threshold"
      ]
    },
    {
      "cell_type": "code",
      "execution_count": 24,
      "id": "c90fc59e-79cc-47eb-a3a5-f31437d7e23d",
      "metadata": {
        "deletable": false,
        "editable": false,
        "nbgrader": {
          "cell_type": "code",
          "checksum": "5f6733577562ed05529c72f3d804fd20",
          "grade": true,
          "grade_id": "Q3test",
          "locked": true,
          "points": 2,
          "schema_version": 3,
          "solution": false,
          "task": false
        },
        "id": "c90fc59e-79cc-47eb-a3a5-f31437d7e23d"
      },
      "outputs": [],
      "source": [
        "data = np.array([[1, 0], [1, 1], [0, 1], [0, 0]])\n",
        "labels = np.array([0, 1, 1, 0])\n",
        "info_gain, threshold=compute_information_gain(data, 0, labels)\n",
        "assert np.isclose(info_gain, 0.0, atol=0.01)\n"
      ]
    },
    {
      "cell_type": "markdown",
      "id": "b85518ab-b7fe-418e-a2a3-eb67d35c0750",
      "metadata": {
        "deletable": false,
        "editable": false,
        "nbgrader": {
          "cell_type": "markdown",
          "checksum": "c6c309b26de79a232352bd4463764fea",
          "grade": false,
          "grade_id": "Q4",
          "locked": true,
          "schema_version": 3,
          "solution": false,
          "task": false
        },
        "id": "b85518ab-b7fe-418e-a2a3-eb67d35c0750"
      },
      "source": [
        "Q4. **Step 3: Find the Best Feature and Threshold**\n",
        "\n",
        "The best feature is the one that gives maximum information gain. Use every feature and find out the one that gives the best split."
      ]
    },
    {
      "cell_type": "code",
      "execution_count": 25,
      "id": "0e026286-306b-424b-9b36-b089a1c771ea",
      "metadata": {
        "deletable": false,
        "nbgrader": {
          "cell_type": "code",
          "checksum": "180b05278de1b0262a32c46ff6a4fe9d",
          "grade": true,
          "grade_id": "Q4ans",
          "locked": false,
          "points": 0,
          "schema_version": 3,
          "solution": true,
          "task": false
        },
        "id": "0e026286-306b-424b-9b36-b089a1c771ea"
      },
      "outputs": [],
      "source": [
        "def best_split(data, labels):\n",
        "    \"\"\"Find the best feature and threshold for splitting.\"\"\"\n",
        "    best_info_gain = 0  # Initialize best information gain\n",
        "    best_feature = None  # Initialize best feature index\n",
        "    best_threshold = None  # Initialize best threshold\n",
        "\n",
        "    num_features = data.shape[1]  # Get number of features\n",
        "\n",
        "    # Iterate through each feature\n",
        "    for feature_index in range(num_features):\n",
        "        # Calculate information gain for current feature\n",
        "        info_gain, threshold = compute_information_gain(data, feature_index, labels)\n",
        "\n",
        "        # Update best values\n",
        "        if info_gain > best_info_gain:\n",
        "            best_info_gain = info_gain\n",
        "            best_feature = feature_index\n",
        "            best_threshold = threshold\n",
        "\n",
        "    # Return the best feature index, threshold, and information gain\n",
        "    return best_feature, best_threshold"
      ]
    },
    {
      "cell_type": "markdown",
      "id": "ca33bcc1-fd44-4194-9598-0e4f9c00693a",
      "metadata": {
        "deletable": false,
        "editable": false,
        "nbgrader": {
          "cell_type": "markdown",
          "checksum": "bf4a11baa5b1a5040e8a62eed8bfd8d8",
          "grade": false,
          "grade_id": "Q5",
          "locked": true,
          "schema_version": 3,
          "solution": false,
          "task": false
        },
        "id": "ca33bcc1-fd44-4194-9598-0e4f9c00693a"
      },
      "source": [
        "Q5. **Step 4: Recursive Tree Building**\n",
        "\n",
        "Now, we will build the decision tree. We are providing code for this segment. Your task is to understand each line of this code."
      ]
    },
    {
      "cell_type": "code",
      "execution_count": 26,
      "id": "7dc7b6ec-2867-4f31-a282-a952659c1f06",
      "metadata": {
        "id": "7dc7b6ec-2867-4f31-a282-a952659c1f06"
      },
      "outputs": [],
      "source": [
        "class DecisionTreeNode:\n",
        "    \"\"\"Class for a decision tree node.\"\"\"\n",
        "    def __init__(self, feature=None, threshold=None, left=None, right=None, value=None):\n",
        "        self.feature = feature\n",
        "        self.threshold = threshold\n",
        "        self.left = left\n",
        "        self.right = right\n",
        "        self.value = value\n",
        "\n",
        "class DecisionTree:\n",
        "    def __init__(self, max_depth=3):\n",
        "        self.max_depth = max_depth\n",
        "        self.root = None\n",
        "\n",
        "    def fit(self, data, labels, depth=0):\n",
        "        \"\"\"Recursively builds the decision tree.\"\"\"\n",
        "        #Stop splitting if pure or max depth reached\n",
        "        if depth == self.max_depth or len(np.unique(labels)) == 1: #Why?\n",
        "            return DecisionTreeNode(value=np.bincount(labels).argmax()) #Why?\n",
        "\n",
        "        # Find best feature and threshold\n",
        "        best_feature, best_threshold = best_split(data, labels)\n",
        "\n",
        "        # Partition data\n",
        "        left_mask = data[:, best_feature] <= best_threshold\n",
        "        right_mask = ~left_mask\n",
        "        # Prevent infinite splitting\n",
        "        if np.all(left_mask) or np.all(right_mask):\n",
        "            return DecisionTreeNode(value=np.bincount(labels).argmax())\n",
        "\n",
        "        left_child = self.fit(data[left_mask], labels[left_mask], depth + 1)\n",
        "        right_child = self.fit(data[right_mask], labels[right_mask], depth + 1)\n",
        "\n",
        "        return DecisionTreeNode(feature=best_feature, threshold=best_threshold, left=left_child, right=right_child)\n",
        "\n",
        "    def train(self, data, labels):\n",
        "        \"\"\"Initialize tree training.\"\"\"\n",
        "        self.root = self.fit(data, labels, depth=0)\n"
      ]
    },
    {
      "cell_type": "markdown",
      "id": "db42741c-db9e-4cc8-9ac0-5783136c820e",
      "metadata": {
        "deletable": false,
        "editable": false,
        "nbgrader": {
          "cell_type": "markdown",
          "checksum": "84c365b34c280b67206410db88baefd1",
          "grade": false,
          "grade_id": "Q6",
          "locked": true,
          "schema_version": 3,
          "solution": false,
          "task": false
        },
        "id": "db42741c-db9e-4cc8-9ac0-5783136c820e"
      },
      "source": [
        "Q6. Next, please review and understand the following code that is used to predict the class"
      ]
    },
    {
      "cell_type": "code",
      "execution_count": 27,
      "id": "2c23a031-4ad9-48c6-995c-79b4bd6b84b5",
      "metadata": {
        "id": "2c23a031-4ad9-48c6-995c-79b4bd6b84b5"
      },
      "outputs": [],
      "source": [
        "def predict_sample(node, sample):\n",
        "    \"\"\"Recursively predict the label for a single sample.\"\"\"\n",
        "    if node.value is not None:\n",
        "        return node.value\n",
        "    if sample[node.feature] <= node.threshold:\n",
        "        return predict_sample(node.left, sample)\n",
        "    else:\n",
        "        return predict_sample(node.right, sample)\n",
        "\n",
        "def predict(tree, data):\n",
        "    \"\"\"Predict labels for multiple samples.\"\"\"\n",
        "    return np.array([predict_sample(tree.root, sample) for sample in data])\n"
      ]
    },
    {
      "cell_type": "markdown",
      "id": "e5c7f9bd-05bc-4abe-8669-b4019d1e02c3",
      "metadata": {
        "id": "e5c7f9bd-05bc-4abe-8669-b4019d1e02c3"
      },
      "source": [
        "Q7. Now, we provide a code that generates a synthetic dataset of two features, and fits the decision tree implemented above and computes accuracy. You are supposed to complete some tasks given in the below code segment:"
      ]
    },
    {
      "cell_type": "code",
      "execution_count": 28,
      "id": "019249ff-56ea-41bb-90c5-76eb2d2cef57",
      "metadata": {
        "deletable": false,
        "nbgrader": {
          "cell_type": "code",
          "checksum": "6e220856d5093aba2ead2e78659d168d",
          "grade": true,
          "grade_id": "Q7ans",
          "locked": false,
          "points": 8,
          "schema_version": 3,
          "solution": true,
          "task": false
        },
        "id": "019249ff-56ea-41bb-90c5-76eb2d2cef57",
        "colab": {
          "base_uri": "https://localhost:8080/",
          "height": 767
        },
        "outputId": "2909b237-8705-49d4-e4ee-eaa4f953083e"
      },
      "outputs": [
        {
          "output_type": "stream",
          "name": "stdout",
          "text": [
            "Requirement already satisfied: scikit-learn in /usr/local/lib/python3.11/dist-packages (1.6.1)\n",
            "Requirement already satisfied: numpy>=1.19.5 in /usr/local/lib/python3.11/dist-packages (from scikit-learn) (1.26.4)\n",
            "Requirement already satisfied: scipy>=1.6.0 in /usr/local/lib/python3.11/dist-packages (from scikit-learn) (1.13.1)\n",
            "Requirement already satisfied: joblib>=1.2.0 in /usr/local/lib/python3.11/dist-packages (from scikit-learn) (1.4.2)\n",
            "Requirement already satisfied: threadpoolctl>=3.1.0 in /usr/local/lib/python3.11/dist-packages (from scikit-learn) (3.5.0)\n",
            "[[ 0.77144029 -1.26233499]\n",
            " [-1.2921157  -0.40911066]\n",
            " [-1.42722051  1.6193163 ]\n",
            " ...\n",
            " [ 1.04275178 -1.33012838]\n",
            " [-0.90758902  0.85881751]\n",
            " [-0.53049771 -1.33108209]]\n",
            "(7000, 2) (3000, 2)\n",
            "Test Accuracy: 0.92\n",
            "(5600, 2) (1400, 2) (3000, 2)\n",
            "Train Accuracy: 0.94\n",
            "Validation Accuracy: 0.93\n"
          ]
        },
        {
          "output_type": "display_data",
          "data": {
            "text/plain": [
              "<Figure size 640x480 with 1 Axes>"
            ],
            "image/png": "[encoded data removed]"
          },
          "metadata": {}
        }
      ],
      "source": [
        "!pip install scikit-learn\n",
        "# Generate synthetic dataset\n",
        "from sklearn.datasets import make_classification\n",
        "from sklearn.model_selection import train_test_split\n",
        "\n",
        "# Ensure n_informative + n_redundant <= n_features\n",
        "X, y = make_classification(n_samples=10000, n_features=2, n_informative=2,\n",
        "                           n_redundant=0, n_classes=2, random_state=42)\n",
        "print(X)\n",
        "\n",
        "X_train, X_test, y_train, y_test = train_test_split(X, y, test_size=0.3, random_state=42)\n",
        "\n",
        "print(X_train.shape, X_test.shape)  # Check dataset shape\n",
        "\n",
        "# Train the decision tree\n",
        "tree = DecisionTree(max_depth=5)\n",
        "tree.train(X_train, y_train)\n",
        "\n",
        "# Make prediction\n",
        "y_pred = predict(tree, X_test)\n",
        "\n",
        "# Evaluate accuracy\n",
        "accuracy = np.mean(y_pred == y_test)\n",
        "print(f\"Test Accuracy: {accuracy:.2f}\")\n",
        "\n",
        "\n",
        "## Task-0: Write code to have 20% of train data to be used as validation set\n",
        "X_train, X_val, y_train, y_val = train_test_split(X_train, y_train, test_size=0.2, random_state=42)\n",
        "print(X_train.shape, X_val.shape, X_test.shape)\n",
        "\n",
        "## Task-1: Write code to compute accuracy on train set\n",
        "y_pred_train = predict(tree, X_train)\n",
        "train_accuracy = np.mean(y_pred_train == y_train)\n",
        "print(f\"Train Accuracy: {train_accuracy:.2f}\")\n",
        "\n",
        "\n",
        "## Task-2: Write code to compute accuracy on val set\n",
        "y_pred_val = predict(tree, X_val)\n",
        "val_accuracy = np.mean(y_pred_val == y_val)\n",
        "print(f\"Validation Accuracy: {val_accuracy:.2f}\")\n",
        "\n",
        "\n",
        "## Task-3: Change max_depth from 0 to 30 and note train/val/test accuracy for each depth and plot them\n",
        "import matplotlib.pyplot as plt\n",
        "\n",
        "train_accuracies = []\n",
        "val_accuracies = []\n",
        "test_accuracies = []\n",
        "\n",
        "depths = range(0, 31)  # max_depth values from 0 to 30\n",
        "\n",
        "for depth in depths:\n",
        "    tree = DecisionTree(max_depth=depth)\n",
        "    tree.train(X_train, y_train)\n",
        "\n",
        "    y_pred_train = predict(tree, X_train)\n",
        "    train_accuracies.append(np.mean(y_pred_train == y_train))\n",
        "\n",
        "    y_pred_val = predict(tree, X_val)\n",
        "    val_accuracies.append(np.mean(y_pred_val == y_val))\n",
        "\n",
        "    y_pred_test = predict(tree, X_test)\n",
        "    test_accuracies.append(np.mean(y_pred_test == y_test))\n",
        "\n",
        "# Plotting the results\n",
        "plt.plot(depths, train_accuracies, label='Train Accuracy')\n",
        "plt.plot(depths, val_accuracies, label='Validation Accuracy')\n",
        "plt.plot(depths, test_accuracies, label='Test Accuracy')\n",
        "plt.xlabel('Max Depth')\n",
        "plt.ylabel('Accuracy')\n",
        "plt.title('Accuracy vs. Max Depth')\n",
        "plt.legend()\n",
        "plt.show()"
      ]
    },
    {
      "cell_type": "markdown",
      "id": "7210eb79-0565-484c-adad-88a35f7188c3",
      "metadata": {
        "deletable": false,
        "editable": false,
        "nbgrader": {
          "cell_type": "markdown",
          "checksum": "e427703438fd054eecbb193e73b53777",
          "grade": false,
          "grade_id": "Q8",
          "locked": true,
          "points": 2,
          "schema_version": 3,
          "solution": false,
          "task": true
        },
        "id": "7210eb79-0565-484c-adad-88a35f7188c3"
      },
      "source": [
        "Q8. In your implementation of compute_information_gain, how was the threshold for numerical features chosen? Point out to your code where this is done."
      ]
    },
    {
      "cell_type": "markdown",
      "source": [
        "The threshold for numerical features is chosen by evaluating all unique values of the feature as potential thresholds. The threshold that maximizes the information gain is selected as the best threshold.\n",
        "```\n",
        "unique_values = np.unique(data[:, feature_index])\n",
        "for threshold in unique_values:     \n",
        "  if info_gain > best_info_gain:\n",
        "    best_info_gain = info_gain\n",
        "    best_threshold = threshold\n",
        "```\n"
      ],
      "metadata": {
        "id": "5MKWAHZmX3qS"
      },
      "id": "5MKWAHZmX3qS"
    },
    {
      "cell_type": "markdown",
      "id": "55fb7df9-c128-4df5-809a-d407b0b5073a",
      "metadata": {
        "deletable": false,
        "editable": false,
        "nbgrader": {
          "cell_type": "markdown",
          "checksum": "57f9baf40c0af05eb1f6ecc9534df981",
          "grade": false,
          "grade_id": "Q9",
          "locked": true,
          "points": 2,
          "schema_version": 3,
          "solution": false,
          "task": true
        },
        "id": "55fb7df9-c128-4df5-809a-d407b0b5073a"
      },
      "source": [
        "Q9. What happens when the decision tree is allowed to grow too deep? Based on your observation for this assignment, write the response."
      ]
    },
    {
      "cell_type": "markdown",
      "source": [
        "When a decision tree is allowed to grow too deep(meaning it has too many levels and decision nodes), it can lead to overfitting.\n",
        "\n",
        "Overfitting is a phenomenon where the model learns the training data too well, including its noise and outliers. As a result, the model performs very accurately on the training data but poorly on unseen data (validation or test data).\n",
        "\n",
        "\n",
        "*   As max_depth increases, the training accuracy tends to improve and may even reach 100%.\n",
        "*   However, the validation accuracy starts to decrease after a certain point.\n",
        "*   The test accuracy also follows a similar trend as the validation accuracy."
      ],
      "metadata": {
        "id": "0t2IAZSBX5R1"
      },
      "id": "0t2IAZSBX5R1"
    },
    {
      "cell_type": "markdown",
      "id": "4e0504ee-8901-4e30-975e-19e8d91d56c3",
      "metadata": {
        "deletable": false,
        "editable": false,
        "nbgrader": {
          "cell_type": "markdown",
          "checksum": "069f5d382fe63bd006bb8d0525d50994",
          "grade": false,
          "grade_id": "Q10",
          "locked": true,
          "points": 2,
          "schema_version": 3,
          "solution": false,
          "task": true
        },
        "id": "4e0504ee-8901-4e30-975e-19e8d91d56c3"
      },
      "source": [
        "Q10. How would you prevent overfitting in your implementation? Suggest two different methods."
      ]
    },
    {
      "cell_type": "markdown",
      "source": [
        "1. Pruning: Pruning involves removing parts of the tree (branches or nodes) that are not contributing significantly to the model's predictive power. It helps simplify the tree and reduce its complexity.\n",
        "\n",
        "2. Limiting Tree Depth: This approach directly controls the complexity of the tree by setting a maximum depth. The tree is not allowed to grow beyond this depth, which restricts the number of decision boundaries it can create."
      ],
      "metadata": {
        "id": "cxqWNXJgX6T7"
      },
      "id": "cxqWNXJgX6T7"
    },
    {
      "cell_type": "markdown",
      "id": "d47e42d0-f464-43c4-af34-83caab594216",
      "metadata": {
        "deletable": false,
        "editable": false,
        "nbgrader": {
          "cell_type": "markdown",
          "checksum": "35baa84b7e647ed753a4d41da24e2fca",
          "grade": false,
          "grade_id": "Q11",
          "locked": true,
          "points": 2,
          "schema_version": 3,
          "solution": false,
          "task": true
        },
        "id": "d47e42d0-f464-43c4-af34-83caab594216"
      },
      "source": [
        "Q11. What other design choices could you have chosen for implementing the decision tree? List them out."
      ]
    },
    {
      "cell_type": "markdown",
      "source": [
        "1. Gini impurity: Another common splitting criterion that measures the probability of misclassifying a randomly chosen element in the dataset if it were randomly labeled according to the class distribution in the subset.\n",
        "2. Pruning Strategy:\n",
        "Instead of (or in addition to) limiting the tree depth, different pruning strategies could have been employed"
      ],
      "metadata": {
        "id": "QI9R7xeQX7Kf"
      },
      "id": "QI9R7xeQX7Kf"
    },
    {
      "cell_type": "markdown",
      "id": "158a1a15-b383-4978-8b2c-89e13833f775",
      "metadata": {
        "deletable": false,
        "editable": false,
        "nbgrader": {
          "cell_type": "markdown",
          "checksum": "6bcc6f05c4f95d99cd7d76a6ff658bb3",
          "grade": false,
          "grade_id": "Q12",
          "locked": true,
          "points": 2,
          "schema_version": 3,
          "solution": false,
          "task": true
        },
        "id": "158a1a15-b383-4978-8b2c-89e13833f775"
      },
      "source": [
        "Q12. Cite all the web sources or help from individuals you have taken to complete this assignment."
      ]
    },
    {
      "cell_type": "markdown",
      "source": [
        "W3Schools , GeeksforGeeks , Class Notes"
      ],
      "metadata": {
        "id": "ePb991piX8gn"
      },
      "id": "ePb991piX8gn"
    }
  ],
  "metadata": {
    "kernelspec": {
      "display_name": "Python 3 (ipykernel)",
      "language": "python",
      "name": "python3"
    },
    "language_info": {
      "codemirror_mode": {
        "name": "ipython",
        "version": 3
      },
      "file_extension": ".py",
      "mimetype": "text/x-python",
      "name": "python",
      "nbconvert_exporter": "python",
      "pygments_lexer": "ipython3",
      "version": "3.10.12"
    },
    "colab": {
      "provenance": []
    }
  },
  "nbformat": 4,
  "nbformat_minor": 5
}